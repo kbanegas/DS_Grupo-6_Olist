{
 "cells": [
  {
   "cell_type": "markdown",
   "metadata": {},
   "source": [
    "# Predicción de la satisfacción del cliente"
   ]
  },
  {
   "cell_type": "code",
   "execution_count": 1,
   "metadata": {},
   "outputs": [],
   "source": [
    "import numpy as np\n",
    "import pandas as pd\n",
    "import seaborn as sns\n",
    "import matplotlib.pyplot as plt\n",
    "import datetime as dt\n",
    "\n",
    "sns.set_context(\"notebook\", font_scale=1.5, rc={\"lines.linewidth\": 2.5})"
   ]
  },
  {
   "cell_type": "code",
   "execution_count": 2,
   "metadata": {},
   "outputs": [],
   "source": [
    "order = pd.read_csv('./../limpio/olist_orders_dataset.csv', delimiter=';')\n",
    "item = pd.read_csv('./../limpio/olist_order_items_dataset.csv', delimiter=';')\n",
    "review = pd.read_csv('./../limpio/olist_order_reviews_dataset.csv', delimiter=';')\n",
    "product = pd.read_csv('./../limpio/olist_products_dataset.csv', delimiter=';')\n",
    "payment = pd.read_csv('./../limpio/olist_order_payments_dataset.csv', delimiter=';')\n",
    "customer = pd.read_csv('./../limpio/olist_customers_dataset.csv', delimiter=';')\n",
    "geolocation = pd.read_csv('./../limpio/olist_geolocation_dataset.csv', delimiter=';')\n",
    "seller = pd.read_csv('./../limpio/olist_sellers_dataset.csv', delimiter=';')\n",
    "geolocation = pd.read_csv('./../limpio/olist_geolocation_dataset.csv', delimiter=';')"
   ]
  },
  {
   "cell_type": "markdown",
   "metadata": {},
   "source": [
    "# Objetivo\n",
    "\n",
    "**\"¿Cuál es la puntuación probable que obtenemos de los clientes? \"**.\n",
    "\n",
    "Buscamos estimar, basándose en los datos sobre el producto y el pedido, cuál será la puntuación de los clientes.\n",
    "\n",
    "# Hipótesis\n",
    "Nuestra hipótesis principal es que el producto y la forma en que se ha realizado el pedido y la entrega pueden influir en la puntuación de las reseñas de los clientes."
   ]
  },
  {
   "cell_type": "markdown",
   "metadata": {},
   "source": [
    "# Procedimiento\n",
    "\n",
    "Para responder a la pregunta debemos cargar los datos de cada pedido hasta la fase de entrega. Con eso, debemos implementar un modelo que estime cuál será la puntuación dada por el cliente en la fase de revisión."
   ]
  },
  {
   "cell_type": "code",
   "execution_count": 3,
   "metadata": {},
   "outputs": [],
   "source": [
    "# Vamos a cargar todos los datos en una sola tabla grande\n",
    "\n",
    "order_items_products = pd.merge(item,product,on='product_id')\n",
    "order_items_products_sellers = pd.merge(order_items_products,seller,on='seller_id')\n",
    "two_order_items_products_sellers = pd.merge(order_items_products_sellers,order,on='order_id')\n",
    "two_order_items_products_sellers_customer = pd.merge(two_order_items_products_sellers,customer,on='customer_id')\n",
    "two_order_items_products_sellers_customer_reviews = pd.merge(two_order_items_products_sellers_customer,review,on='order_id')\n",
    "final_dataframe = pd.merge(two_order_items_products_sellers_customer_reviews,payment,on='order_id')"
   ]
  },
  {
   "cell_type": "code",
   "execution_count": 4,
   "metadata": {},
   "outputs": [],
   "source": [
    "# Convertimos los datos de fechas\n",
    "\n",
    "final_dataframe['order_purchase_timestamp'] = pd.to_datetime(final_dataframe.order_purchase_timestamp)   \n",
    "final_dataframe['order_approved_at'] = pd.to_datetime(final_dataframe.order_approved_at).dt.date  \n",
    "final_dataframe['order_estimated_delivery_date'] = pd.to_datetime(final_dataframe.order_estimated_delivery_date).dt.date  \n",
    "final_dataframe['order_delivered_customer_date'] = pd.to_datetime(final_dataframe.order_delivered_customer_date).dt.date"
   ]
  },
  {
   "cell_type": "code",
   "execution_count": 5,
   "metadata": {},
   "outputs": [
    {
     "data": {
      "text/html": [
       "<div>\n",
       "<style scoped>\n",
       "    .dataframe tbody tr th:only-of-type {\n",
       "        vertical-align: middle;\n",
       "    }\n",
       "\n",
       "    .dataframe tbody tr th {\n",
       "        vertical-align: top;\n",
       "    }\n",
       "\n",
       "    .dataframe thead th {\n",
       "        text-align: right;\n",
       "    }\n",
       "</style>\n",
       "<table border=\"1\" class=\"dataframe\">\n",
       "  <thead>\n",
       "    <tr style=\"text-align: right;\">\n",
       "      <th></th>\n",
       "      <th>order_id</th>\n",
       "      <th>order_item_id</th>\n",
       "      <th>product_id</th>\n",
       "      <th>seller_id</th>\n",
       "      <th>shipping_limit_date</th>\n",
       "      <th>price</th>\n",
       "      <th>freight_value</th>\n",
       "      <th>product_category_name</th>\n",
       "      <th>espanol</th>\n",
       "      <th>product_name_lenght</th>\n",
       "      <th>...</th>\n",
       "      <th>customer_zip_code_prefix</th>\n",
       "      <th>review_id</th>\n",
       "      <th>review_score</th>\n",
       "      <th>review_comment_title</th>\n",
       "      <th>review_comment_message</th>\n",
       "      <th>review_creation_date</th>\n",
       "      <th>review_answer_timestamp</th>\n",
       "      <th>payment_type</th>\n",
       "      <th>payment_installments</th>\n",
       "      <th>payment_value</th>\n",
       "    </tr>\n",
       "  </thead>\n",
       "  <tbody>\n",
       "    <tr>\n",
       "      <th>0</th>\n",
       "      <td>00010242fe8c5a6d1ba2dd792cb16214</td>\n",
       "      <td>1</td>\n",
       "      <td>4244733e06e7ecb4970a6e2683c13e61</td>\n",
       "      <td>48436dade18ac8b2bce089ec2a041202</td>\n",
       "      <td>2017-09-19 09:45:35</td>\n",
       "      <td>58.9</td>\n",
       "      <td>13.29</td>\n",
       "      <td>Cool stuff</td>\n",
       "      <td>Cosas interesantes</td>\n",
       "      <td>58.0</td>\n",
       "      <td>...</td>\n",
       "      <td>28013</td>\n",
       "      <td>97ca439bc427b48bc1cd7177abe71365</td>\n",
       "      <td>5</td>\n",
       "      <td>Sin Dato</td>\n",
       "      <td>Perfeito, produto entregue antes do combinado.</td>\n",
       "      <td>2017-09-21 00:00:00</td>\n",
       "      <td>2017-09-22 10:57:03</td>\n",
       "      <td>credit_card</td>\n",
       "      <td>2</td>\n",
       "      <td>72.19</td>\n",
       "    </tr>\n",
       "    <tr>\n",
       "      <th>1</th>\n",
       "      <td>130898c0987d1801452a8ed92a670612</td>\n",
       "      <td>1</td>\n",
       "      <td>4244733e06e7ecb4970a6e2683c13e61</td>\n",
       "      <td>48436dade18ac8b2bce089ec2a041202</td>\n",
       "      <td>2017-07-05 02:44:11</td>\n",
       "      <td>55.9</td>\n",
       "      <td>17.96</td>\n",
       "      <td>Cool stuff</td>\n",
       "      <td>Cosas interesantes</td>\n",
       "      <td>58.0</td>\n",
       "      <td>...</td>\n",
       "      <td>75800</td>\n",
       "      <td>b11cba360bbe71410c291b764753d37f</td>\n",
       "      <td>5</td>\n",
       "      <td>Sin Dato</td>\n",
       "      <td>lannister como sempre, entregou certinho e den...</td>\n",
       "      <td>2017-07-14 00:00:00</td>\n",
       "      <td>2017-07-17 12:50:07</td>\n",
       "      <td>boleto</td>\n",
       "      <td>1</td>\n",
       "      <td>73.86</td>\n",
       "    </tr>\n",
       "    <tr>\n",
       "      <th>2</th>\n",
       "      <td>532ed5e14e24ae1f0d735b91524b98b9</td>\n",
       "      <td>1</td>\n",
       "      <td>4244733e06e7ecb4970a6e2683c13e61</td>\n",
       "      <td>48436dade18ac8b2bce089ec2a041202</td>\n",
       "      <td>2018-05-23 10:56:25</td>\n",
       "      <td>64.9</td>\n",
       "      <td>18.33</td>\n",
       "      <td>Cool stuff</td>\n",
       "      <td>Cosas interesantes</td>\n",
       "      <td>58.0</td>\n",
       "      <td>...</td>\n",
       "      <td>30720</td>\n",
       "      <td>af01c4017c5ab46df6cc810e069e654a</td>\n",
       "      <td>4</td>\n",
       "      <td>super recomendo</td>\n",
       "      <td>carrinho muito bonito</td>\n",
       "      <td>2018-06-05 00:00:00</td>\n",
       "      <td>2018-06-06 21:41:12</td>\n",
       "      <td>credit_card</td>\n",
       "      <td>2</td>\n",
       "      <td>83.23</td>\n",
       "    </tr>\n",
       "    <tr>\n",
       "      <th>3</th>\n",
       "      <td>6f8c31653edb8c83e1a739408b5ff750</td>\n",
       "      <td>1</td>\n",
       "      <td>4244733e06e7ecb4970a6e2683c13e61</td>\n",
       "      <td>48436dade18ac8b2bce089ec2a041202</td>\n",
       "      <td>2017-08-07 18:55:08</td>\n",
       "      <td>58.9</td>\n",
       "      <td>16.17</td>\n",
       "      <td>Cool stuff</td>\n",
       "      <td>Cosas interesantes</td>\n",
       "      <td>58.0</td>\n",
       "      <td>...</td>\n",
       "      <td>83070</td>\n",
       "      <td>8304ff37d8b16b57086fa283fe0c44f8</td>\n",
       "      <td>5</td>\n",
       "      <td>Sin Dato</td>\n",
       "      <td>Sin Dato</td>\n",
       "      <td>2017-08-10 00:00:00</td>\n",
       "      <td>2017-08-13 03:35:17</td>\n",
       "      <td>credit_card</td>\n",
       "      <td>3</td>\n",
       "      <td>75.07</td>\n",
       "    </tr>\n",
       "    <tr>\n",
       "      <th>4</th>\n",
       "      <td>7d19f4ef4d04461989632411b7e588b9</td>\n",
       "      <td>1</td>\n",
       "      <td>4244733e06e7ecb4970a6e2683c13e61</td>\n",
       "      <td>48436dade18ac8b2bce089ec2a041202</td>\n",
       "      <td>2017-08-16 22:05:11</td>\n",
       "      <td>58.9</td>\n",
       "      <td>13.29</td>\n",
       "      <td>Cool stuff</td>\n",
       "      <td>Cosas interesantes</td>\n",
       "      <td>58.0</td>\n",
       "      <td>...</td>\n",
       "      <td>36400</td>\n",
       "      <td>426f43a82185969503fb3c86241a9535</td>\n",
       "      <td>5</td>\n",
       "      <td>Sin Dato</td>\n",
       "      <td>Sin Dato</td>\n",
       "      <td>2017-08-25 00:00:00</td>\n",
       "      <td>2017-08-28 00:51:18</td>\n",
       "      <td>credit_card</td>\n",
       "      <td>4</td>\n",
       "      <td>72.19</td>\n",
       "    </tr>\n",
       "  </tbody>\n",
       "</table>\n",
       "<p>5 rows × 35 columns</p>\n",
       "</div>"
      ],
      "text/plain": [
       "                           order_id  order_item_id  \\\n",
       "0  00010242fe8c5a6d1ba2dd792cb16214              1   \n",
       "1  130898c0987d1801452a8ed92a670612              1   \n",
       "2  532ed5e14e24ae1f0d735b91524b98b9              1   \n",
       "3  6f8c31653edb8c83e1a739408b5ff750              1   \n",
       "4  7d19f4ef4d04461989632411b7e588b9              1   \n",
       "\n",
       "                         product_id                         seller_id  \\\n",
       "0  4244733e06e7ecb4970a6e2683c13e61  48436dade18ac8b2bce089ec2a041202   \n",
       "1  4244733e06e7ecb4970a6e2683c13e61  48436dade18ac8b2bce089ec2a041202   \n",
       "2  4244733e06e7ecb4970a6e2683c13e61  48436dade18ac8b2bce089ec2a041202   \n",
       "3  4244733e06e7ecb4970a6e2683c13e61  48436dade18ac8b2bce089ec2a041202   \n",
       "4  4244733e06e7ecb4970a6e2683c13e61  48436dade18ac8b2bce089ec2a041202   \n",
       "\n",
       "   shipping_limit_date  price  freight_value product_category_name  \\\n",
       "0  2017-09-19 09:45:35   58.9          13.29            Cool stuff   \n",
       "1  2017-07-05 02:44:11   55.9          17.96            Cool stuff   \n",
       "2  2018-05-23 10:56:25   64.9          18.33            Cool stuff   \n",
       "3  2017-08-07 18:55:08   58.9          16.17            Cool stuff   \n",
       "4  2017-08-16 22:05:11   58.9          13.29            Cool stuff   \n",
       "\n",
       "              espanol  product_name_lenght  ...  customer_zip_code_prefix  \\\n",
       "0  Cosas interesantes                 58.0  ...                     28013   \n",
       "1  Cosas interesantes                 58.0  ...                     75800   \n",
       "2  Cosas interesantes                 58.0  ...                     30720   \n",
       "3  Cosas interesantes                 58.0  ...                     83070   \n",
       "4  Cosas interesantes                 58.0  ...                     36400   \n",
       "\n",
       "                          review_id  review_score  review_comment_title  \\\n",
       "0  97ca439bc427b48bc1cd7177abe71365             5              Sin Dato   \n",
       "1  b11cba360bbe71410c291b764753d37f             5              Sin Dato   \n",
       "2  af01c4017c5ab46df6cc810e069e654a             4       super recomendo   \n",
       "3  8304ff37d8b16b57086fa283fe0c44f8             5              Sin Dato   \n",
       "4  426f43a82185969503fb3c86241a9535             5              Sin Dato   \n",
       "\n",
       "                              review_comment_message  review_creation_date  \\\n",
       "0     Perfeito, produto entregue antes do combinado.   2017-09-21 00:00:00   \n",
       "1  lannister como sempre, entregou certinho e den...   2017-07-14 00:00:00   \n",
       "2                              carrinho muito bonito   2018-06-05 00:00:00   \n",
       "3                                           Sin Dato   2017-08-10 00:00:00   \n",
       "4                                           Sin Dato   2017-08-25 00:00:00   \n",
       "\n",
       "   review_answer_timestamp payment_type payment_installments payment_value  \n",
       "0      2017-09-22 10:57:03  credit_card                    2         72.19  \n",
       "1      2017-07-17 12:50:07       boleto                    1         73.86  \n",
       "2      2018-06-06 21:41:12  credit_card                    2         83.23  \n",
       "3      2017-08-13 03:35:17  credit_card                    3         75.07  \n",
       "4      2017-08-28 00:51:18  credit_card                    4         72.19  \n",
       "\n",
       "[5 rows x 35 columns]"
      ]
     },
     "execution_count": 5,
     "metadata": {},
     "output_type": "execute_result"
    }
   ],
   "source": [
    "final_dataframe.head()"
   ]
  },
  {
   "cell_type": "code",
   "execution_count": 6,
   "metadata": {},
   "outputs": [
    {
     "data": {
      "text/plain": [
       "Index(['order_id', 'order_item_id', 'product_id', 'seller_id',\n",
       "       'shipping_limit_date', 'price', 'freight_value',\n",
       "       'product_category_name', 'espanol', 'product_name_lenght',\n",
       "       'product_description_lenght', 'product_photos_qty', 'product_weight_g',\n",
       "       'product_length_cm', 'product_height_cm', 'product_width_cm',\n",
       "       'seller_zip_code_prefix', 'customer_id', 'order_status',\n",
       "       'order_purchase_timestamp', 'order_approved_at',\n",
       "       'order_delivered_carrier_date', 'order_delivered_customer_date',\n",
       "       'order_estimated_delivery_date', 'customer_unique_id',\n",
       "       'customer_zip_code_prefix', 'review_id', 'review_score',\n",
       "       'review_comment_title', 'review_comment_message',\n",
       "       'review_creation_date', 'review_answer_timestamp', 'payment_type',\n",
       "       'payment_installments', 'payment_value'],\n",
       "      dtype='object')"
      ]
     },
     "execution_count": 6,
     "metadata": {},
     "output_type": "execute_result"
    }
   ],
   "source": [
    "final_dataframe.columns"
   ]
  },
  {
   "cell_type": "markdown",
   "metadata": {},
   "source": [
    "Vamos a tomar solo las columnas que creemos convenientes"
   ]
  },
  {
   "cell_type": "code",
   "execution_count": 7,
   "metadata": {},
   "outputs": [],
   "source": [
    "final_dataframe = final_dataframe[['freight_value', 'espanol', 'product_name_lenght',\n",
    "       'product_description_lenght', 'product_photos_qty',\n",
    "       'order_status', 'order_purchase_timestamp', 'order_approved_at',\n",
    "       'order_delivered_customer_date',\n",
    "       'order_estimated_delivery_date',\n",
    "       'review_score']]"
   ]
  },
  {
   "cell_type": "code",
   "execution_count": 8,
   "metadata": {},
   "outputs": [
    {
     "data": {
      "text/html": [
       "<div>\n",
       "<style scoped>\n",
       "    .dataframe tbody tr th:only-of-type {\n",
       "        vertical-align: middle;\n",
       "    }\n",
       "\n",
       "    .dataframe tbody tr th {\n",
       "        vertical-align: top;\n",
       "    }\n",
       "\n",
       "    .dataframe thead th {\n",
       "        text-align: right;\n",
       "    }\n",
       "</style>\n",
       "<table border=\"1\" class=\"dataframe\">\n",
       "  <thead>\n",
       "    <tr style=\"text-align: right;\">\n",
       "      <th></th>\n",
       "      <th>freight_value</th>\n",
       "      <th>espanol</th>\n",
       "      <th>product_name_lenght</th>\n",
       "      <th>product_description_lenght</th>\n",
       "      <th>product_photos_qty</th>\n",
       "      <th>order_status</th>\n",
       "      <th>order_purchase_timestamp</th>\n",
       "      <th>order_approved_at</th>\n",
       "      <th>order_delivered_customer_date</th>\n",
       "      <th>order_estimated_delivery_date</th>\n",
       "      <th>review_score</th>\n",
       "    </tr>\n",
       "  </thead>\n",
       "  <tbody>\n",
       "    <tr>\n",
       "      <th>0</th>\n",
       "      <td>13.29</td>\n",
       "      <td>Cosas interesantes</td>\n",
       "      <td>58.0</td>\n",
       "      <td>598.0</td>\n",
       "      <td>4.0</td>\n",
       "      <td>delivered</td>\n",
       "      <td>2017-09-13 08:59:02</td>\n",
       "      <td>2017-09-13</td>\n",
       "      <td>2017-09-20</td>\n",
       "      <td>2017-09-29</td>\n",
       "      <td>5</td>\n",
       "    </tr>\n",
       "    <tr>\n",
       "      <th>1</th>\n",
       "      <td>17.96</td>\n",
       "      <td>Cosas interesantes</td>\n",
       "      <td>58.0</td>\n",
       "      <td>598.0</td>\n",
       "      <td>4.0</td>\n",
       "      <td>delivered</td>\n",
       "      <td>2017-06-28 11:52:20</td>\n",
       "      <td>2017-06-29</td>\n",
       "      <td>2017-07-13</td>\n",
       "      <td>2017-07-26</td>\n",
       "      <td>5</td>\n",
       "    </tr>\n",
       "    <tr>\n",
       "      <th>2</th>\n",
       "      <td>18.33</td>\n",
       "      <td>Cosas interesantes</td>\n",
       "      <td>58.0</td>\n",
       "      <td>598.0</td>\n",
       "      <td>4.0</td>\n",
       "      <td>delivered</td>\n",
       "      <td>2018-05-18 10:25:53</td>\n",
       "      <td>2018-05-18</td>\n",
       "      <td>2018-06-04</td>\n",
       "      <td>2018-06-07</td>\n",
       "      <td>4</td>\n",
       "    </tr>\n",
       "    <tr>\n",
       "      <th>3</th>\n",
       "      <td>16.17</td>\n",
       "      <td>Cosas interesantes</td>\n",
       "      <td>58.0</td>\n",
       "      <td>598.0</td>\n",
       "      <td>4.0</td>\n",
       "      <td>delivered</td>\n",
       "      <td>2017-08-01 18:38:42</td>\n",
       "      <td>2017-08-01</td>\n",
       "      <td>2017-08-09</td>\n",
       "      <td>2017-08-25</td>\n",
       "      <td>5</td>\n",
       "    </tr>\n",
       "    <tr>\n",
       "      <th>4</th>\n",
       "      <td>13.29</td>\n",
       "      <td>Cosas interesantes</td>\n",
       "      <td>58.0</td>\n",
       "      <td>598.0</td>\n",
       "      <td>4.0</td>\n",
       "      <td>delivered</td>\n",
       "      <td>2017-08-10 21:48:40</td>\n",
       "      <td>2017-08-10</td>\n",
       "      <td>2017-08-24</td>\n",
       "      <td>2017-09-01</td>\n",
       "      <td>5</td>\n",
       "    </tr>\n",
       "  </tbody>\n",
       "</table>\n",
       "</div>"
      ],
      "text/plain": [
       "   freight_value             espanol  product_name_lenght  \\\n",
       "0          13.29  Cosas interesantes                 58.0   \n",
       "1          17.96  Cosas interesantes                 58.0   \n",
       "2          18.33  Cosas interesantes                 58.0   \n",
       "3          16.17  Cosas interesantes                 58.0   \n",
       "4          13.29  Cosas interesantes                 58.0   \n",
       "\n",
       "   product_description_lenght  product_photos_qty order_status  \\\n",
       "0                       598.0                 4.0    delivered   \n",
       "1                       598.0                 4.0    delivered   \n",
       "2                       598.0                 4.0    delivered   \n",
       "3                       598.0                 4.0    delivered   \n",
       "4                       598.0                 4.0    delivered   \n",
       "\n",
       "  order_purchase_timestamp order_approved_at order_delivered_customer_date  \\\n",
       "0      2017-09-13 08:59:02        2017-09-13                    2017-09-20   \n",
       "1      2017-06-28 11:52:20        2017-06-29                    2017-07-13   \n",
       "2      2018-05-18 10:25:53        2018-05-18                    2018-06-04   \n",
       "3      2017-08-01 18:38:42        2017-08-01                    2017-08-09   \n",
       "4      2017-08-10 21:48:40        2017-08-10                    2017-08-24   \n",
       "\n",
       "  order_estimated_delivery_date  review_score  \n",
       "0                    2017-09-29             5  \n",
       "1                    2017-07-26             5  \n",
       "2                    2018-06-07             4  \n",
       "3                    2017-08-25             5  \n",
       "4                    2017-09-01             5  "
      ]
     },
     "execution_count": 8,
     "metadata": {},
     "output_type": "execute_result"
    }
   ],
   "source": [
    "final_dataframe.head()"
   ]
  },
  {
   "cell_type": "code",
   "execution_count": 9,
   "metadata": {},
   "outputs": [
    {
     "data": {
      "text/plain": [
       "freight_value                       0\n",
       "espanol                             0\n",
       "product_name_lenght              1628\n",
       "product_description_lenght       1628\n",
       "product_photos_qty               1628\n",
       "order_status                        0\n",
       "order_purchase_timestamp            0\n",
       "order_approved_at                  15\n",
       "order_delivered_customer_date    2396\n",
       "order_estimated_delivery_date       0\n",
       "review_score                        0\n",
       "dtype: int64"
      ]
     },
     "execution_count": 9,
     "metadata": {},
     "output_type": "execute_result"
    }
   ],
   "source": [
    "final_dataframe.isna().sum()"
   ]
  },
  {
   "cell_type": "code",
   "execution_count": 10,
   "metadata": {},
   "outputs": [],
   "source": [
    "# Hay valoores faltantes, vamos a eliminarlos\n",
    "final_dataframe=final_dataframe.dropna()\n",
    "final_dataframe = final_dataframe.reset_index().drop(['index'],axis=1)"
   ]
  },
  {
   "cell_type": "markdown",
   "metadata": {},
   "source": [
    "### División del conjunto de datos\n",
    "Vamos a dividir nuestros datos ahora para evitar introducir algún sesgo no deseado. \n",
    "\n",
    "> Para dividir correctamente, veamos primero cómo se distribuyen las clases en el conjunto de datos completo."
   ]
  },
  {
   "cell_type": "code",
   "execution_count": 11,
   "metadata": {},
   "outputs": [
    {
     "data": {
      "text/plain": [
       "5    0.574489\n",
       "4    0.193666\n",
       "1    0.113607\n",
       "3    0.084379\n",
       "2    0.033860\n",
       "Name: review_score, dtype: float64"
      ]
     },
     "execution_count": 11,
     "metadata": {},
     "output_type": "execute_result"
    }
   ],
   "source": [
    "final_dataframe['review_score'].value_counts() / len(final_dataframe['review_score'])"
   ]
  },
  {
   "cell_type": "markdown",
   "metadata": {},
   "source": [
    "#### División simple\n",
    "Probemos primero una división aleatoria simple y veamos si las proporciones se mantienen iguales."
   ]
  },
  {
   "cell_type": "code",
   "execution_count": 12,
   "metadata": {},
   "outputs": [],
   "source": [
    "from sklearn.model_selection import train_test_split\n",
    "\n",
    "# split\n",
    "train_set, test_set = train_test_split(final_dataframe, test_size=0.2, random_state=42)"
   ]
  },
  {
   "cell_type": "code",
   "execution_count": 13,
   "metadata": {},
   "outputs": [
    {
     "data": {
      "text/plain": [
       "5    0.576548\n",
       "4    0.194654\n",
       "1    0.111447\n",
       "3    0.084169\n",
       "2    0.033182\n",
       "Name: review_score, dtype: float64"
      ]
     },
     "execution_count": 13,
     "metadata": {},
     "output_type": "execute_result"
    }
   ],
   "source": [
    "test_set['review_score'].value_counts() / len(test_set['review_score'])"
   ]
  },
  {
   "cell_type": "markdown",
   "metadata": {},
   "source": [
    "Vemos que hay cierta diferencia entre la proporción de cada clase en comparación con el conjunto de datos original.\n",
    "\n",
    "#### División estratificada\n",
    "Ahora vamos a hacer una división estratificada y comparar con el conjunto de datos completo de nuevo."
   ]
  },
  {
   "cell_type": "code",
   "execution_count": 14,
   "metadata": {},
   "outputs": [],
   "source": [
    "from sklearn.model_selection import StratifiedShuffleSplit\n",
    "\n",
    "# Stratified Split\n",
    "split = StratifiedShuffleSplit(n_splits=1, test_size=0.2, random_state=42)\n",
    "for train_index, test_index in split.split(final_dataframe, final_dataframe['review_score']):\n",
    "    strat_train_set = final_dataframe.loc[train_index]\n",
    "    strat_test_set = final_dataframe.loc[test_index]"
   ]
  },
  {
   "cell_type": "code",
   "execution_count": 15,
   "metadata": {},
   "outputs": [
    {
     "data": {
      "text/plain": [
       "5    0.574489\n",
       "4    0.193670\n",
       "1    0.113609\n",
       "3    0.084375\n",
       "2    0.033857\n",
       "Name: review_score, dtype: float64"
      ]
     },
     "execution_count": 15,
     "metadata": {},
     "output_type": "execute_result"
    }
   ],
   "source": [
    "strat_train_set['review_score'].value_counts() / len(strat_train_set['review_score'])"
   ]
  },
  {
   "cell_type": "markdown",
   "metadata": {},
   "source": [
    "Al hacer una división estratificada, mantenemos la misma proporción entre las clases. Esta división representa mejor los datos originales y posiblemente reducirá cualquier sesgo."
   ]
  },
  {
   "cell_type": "markdown",
   "metadata": {},
   "source": [
    "### Separación de las puntuaciones y las características\n",
    "No queremos aplicar ninguna transformación a las puntuaciones (review_score). Para evitarlo, simplemente creamos una serie separada con las puntuaciones, y eliminamos esa columna del conjunto de datos de las características."
   ]
  },
  {
   "cell_type": "code",
   "execution_count": 16,
   "metadata": {},
   "outputs": [],
   "source": [
    "orders_features = strat_train_set.drop('review_score', axis=1)\n",
    "orders_labels = strat_train_set['review_score'].copy()"
   ]
  },
  {
   "cell_type": "markdown",
   "metadata": {},
   "source": [
    "## Ingeniería de características\n",
    "Veamos la correlación entre las columnas"
   ]
  },
  {
   "cell_type": "code",
   "execution_count": 17,
   "metadata": {},
   "outputs": [
    {
     "data": {
      "text/plain": [
       "review_score                  1.000000\n",
       "product_photos_qty            0.018103\n",
       "product_description_lenght    0.015066\n",
       "product_name_lenght          -0.016363\n",
       "freight_value                -0.034275\n",
       "Name: review_score, dtype: float64"
      ]
     },
     "execution_count": 17,
     "metadata": {},
     "output_type": "execute_result"
    }
   ],
   "source": [
    "corr_matrix = strat_train_set.corr()\n",
    "corr_matrix['review_score'].sort_values(ascending=False)"
   ]
  },
  {
   "cell_type": "code",
   "execution_count": 18,
   "metadata": {},
   "outputs": [
    {
     "data": {
      "image/png": "[encoded data removed]",
      "text/plain": [
       "<Figure size 720x360 with 2 Axes>"
      ]
     },
     "metadata": {
      "needs_background": "light"
     },
     "output_type": "display_data"
    }
   ],
   "source": [
    "plt.figure(figsize=(10,5))\n",
    "sns.heatmap(corr_matrix)\n",
    "plt.show()"
   ]
  },
  {
   "cell_type": "markdown",
   "metadata": {},
   "source": [
    "Notamos que no hay muchas columnas que estén correlacionadas con el objetivo en los datos originales.\n",
    "\n",
    "Vamos a crear características más informativas para modelar este problema.\n",
    "\n",
    "### Características Hipotesis\n",
    "\n",
    "#### Tiempo estimado de entrega en días\n",
    "Obtiene los días entre la aprobación del pedido y la fecha estimada de entrega. Un cliente puede estar insatisfecho si se le dice que el tiempo estimado es grande.\n",
    "\n",
    "#### Tiempo de entrega real en días\n",
    "Obtiene los días entre la aprobación del pedido y la fecha de entrega al cliente. Un cliente puede estar más satisfecho si recibe el producto más rápido.\n",
    "\n",
    "#### Tiempo de entrega Delta en días\n",
    "La diferencia entre la fecha real y la estimada.  Si es negativa se entregó antes, si es positiva se entregó tarde. Un cliente podría estar más satisfecho si el pedido llega antes de lo previsto, o descontento si lo recibe después de la fecha límite\n",
    "\n",
    "#### Retraso en el tiempo de entrega\n",
    "Variable binaria que indica si el pedido fue entregado después de la fecha estimada.\n",
    "\n",
    "#### Día de la semana de la compra\n",
    "¿Afecta a la satisfacción de los clientes?"
   ]
  },
  {
   "cell_type": "markdown",
   "metadata": {},
   "source": [
    "### Creación de un transformador personalizado para FeatEng\n",
    "Necesitamos garantizar que estamos aplicando exactamente la misma transformación a los datos nuevos/no vistos. Para ello vamos a crear transformadores personalizados utilizando scikit-learn BaseEstimator.\n",
    "\n",
    "Este primer transformador personalizado hará la ingeniería de características que acabamos de describir anteriormente."
   ]
  },
  {
   "cell_type": "code",
   "execution_count": 19,
   "metadata": {},
   "outputs": [],
   "source": [
    "from sklearn.base import BaseEstimator, TransformerMixin\n",
    "\n",
    "class AttributesAdder(BaseEstimator, TransformerMixin):\n",
    "    def __init__(self):\n",
    "        pass    \n",
    "    \n",
    "    def fit(self, X, y=None):\n",
    "        return self\n",
    "    \n",
    "    def transform(self, X, y=None):\n",
    "        df = X.copy()\n",
    "        \n",
    "        # Calcular el plazo de entrega estimado y el plazo de entrega real en cantidad de días. \n",
    "        # Si la fecha de entrega del cliente es nula, devuelve 0.\n",
    "        \n",
    "        df['wd_estimated_delivery_time'] = df.order_estimated_delivery_date - df.order_approved_at\n",
    "\n",
    "        df['wd_actual_delivery_time'] = df.order_delivered_customer_date - df.order_approved_at \n",
    "                                                                                   \n",
    "\n",
    "        # Calcula el tiempo entre la fecha de entrega real y la estimada.\n",
    "        # Si es negativo se entregó antes, si es positivo se entregó tarde.\n",
    "        df['wd_delivery_time_delta'] = df.wd_actual_delivery_time - df.wd_estimated_delivery_time\n",
    "\n",
    "        # Calcula el tiempo entre la fecha de entrega real y la estimada. Si el negativo se entregó antes, si el positivo se entregó tarde.\n",
    "        df['is_late'] = df.order_delivered_customer_date > df.order_estimated_delivery_date\n",
    "        \n",
    "        # Calcula el ratio de carga de los pedidos.\n",
    "        df['purchase_dayofweek'] = df.order_purchase_timestamp.dt.dayofweek\n",
    "                       \n",
    "        # Con esto podemos eliminar las marcas de tiempo del conjunto de datos\n",
    "        cols2drop = ['order_purchase_timestamp', 'order_approved_at', 'order_estimated_delivery_date', \n",
    "                     'order_delivered_customer_date']\n",
    "        df.drop(cols2drop, axis=1, inplace=True)\n",
    "        \n",
    "        # Convertimos los dìas estimados en valores numèricos\n",
    "        df['wd_estimated_delivery_time'] = pd.to_numeric(df.wd_estimated_delivery_time/np.timedelta64(1, 'D'))\n",
    "        df['wd_actual_delivery_time'] = pd.to_numeric(df.wd_actual_delivery_time/np.timedelta64(1, 'D'))\n",
    "        df['wd_delivery_time_delta'] = pd.to_numeric(df.wd_delivery_time_delta/np.timedelta64(1, 'D'))\n",
    "\n",
    "        return df"
   ]
  },
  {
   "cell_type": "markdown",
   "metadata": {},
   "source": [
    "Aplicamos las nuevas características"
   ]
  },
  {
   "cell_type": "code",
   "execution_count": 20,
   "metadata": {},
   "outputs": [],
   "source": [
    "# Ejecución del estimador que acabamos de crear\n",
    "attr_adder = AttributesAdder()"
   ]
  },
  {
   "cell_type": "code",
   "execution_count": 21,
   "metadata": {},
   "outputs": [],
   "source": [
    "\n",
    "feat_eng = attr_adder.transform(strat_train_set)"
   ]
  },
  {
   "cell_type": "code",
   "execution_count": 22,
   "metadata": {},
   "outputs": [
    {
     "data": {
      "text/html": [
       "<div>\n",
       "<style scoped>\n",
       "    .dataframe tbody tr th:only-of-type {\n",
       "        vertical-align: middle;\n",
       "    }\n",
       "\n",
       "    .dataframe tbody tr th {\n",
       "        vertical-align: top;\n",
       "    }\n",
       "\n",
       "    .dataframe thead th {\n",
       "        text-align: right;\n",
       "    }\n",
       "</style>\n",
       "<table border=\"1\" class=\"dataframe\">\n",
       "  <thead>\n",
       "    <tr style=\"text-align: right;\">\n",
       "      <th></th>\n",
       "      <th>freight_value</th>\n",
       "      <th>espanol</th>\n",
       "      <th>product_name_lenght</th>\n",
       "      <th>product_description_lenght</th>\n",
       "      <th>product_photos_qty</th>\n",
       "      <th>order_status</th>\n",
       "      <th>review_score</th>\n",
       "      <th>wd_estimated_delivery_time</th>\n",
       "      <th>wd_actual_delivery_time</th>\n",
       "      <th>wd_delivery_time_delta</th>\n",
       "      <th>is_late</th>\n",
       "      <th>purchase_dayofweek</th>\n",
       "    </tr>\n",
       "  </thead>\n",
       "  <tbody>\n",
       "    <tr>\n",
       "      <th>7708</th>\n",
       "      <td>16.11</td>\n",
       "      <td>Cosas interesantes</td>\n",
       "      <td>41.0</td>\n",
       "      <td>578.0</td>\n",
       "      <td>2.0</td>\n",
       "      <td>delivered</td>\n",
       "      <td>3</td>\n",
       "      <td>26.0</td>\n",
       "      <td>18.0</td>\n",
       "      <td>-8.0</td>\n",
       "      <td>False</td>\n",
       "      <td>4</td>\n",
       "    </tr>\n",
       "    <tr>\n",
       "      <th>53329</th>\n",
       "      <td>9.60</td>\n",
       "      <td>Decoración de muebles</td>\n",
       "      <td>26.0</td>\n",
       "      <td>669.0</td>\n",
       "      <td>4.0</td>\n",
       "      <td>delivered</td>\n",
       "      <td>5</td>\n",
       "      <td>11.0</td>\n",
       "      <td>2.0</td>\n",
       "      <td>-9.0</td>\n",
       "      <td>False</td>\n",
       "      <td>0</td>\n",
       "    </tr>\n",
       "    <tr>\n",
       "      <th>7742</th>\n",
       "      <td>15.10</td>\n",
       "      <td>Juguetes</td>\n",
       "      <td>57.0</td>\n",
       "      <td>571.0</td>\n",
       "      <td>1.0</td>\n",
       "      <td>delivered</td>\n",
       "      <td>5</td>\n",
       "      <td>22.0</td>\n",
       "      <td>9.0</td>\n",
       "      <td>-13.0</td>\n",
       "      <td>False</td>\n",
       "      <td>5</td>\n",
       "    </tr>\n",
       "    <tr>\n",
       "      <th>77631</th>\n",
       "      <td>15.23</td>\n",
       "      <td>Electrodomésticos</td>\n",
       "      <td>59.0</td>\n",
       "      <td>709.0</td>\n",
       "      <td>2.0</td>\n",
       "      <td>delivered</td>\n",
       "      <td>5</td>\n",
       "      <td>35.0</td>\n",
       "      <td>13.0</td>\n",
       "      <td>-22.0</td>\n",
       "      <td>False</td>\n",
       "      <td>2</td>\n",
       "    </tr>\n",
       "    <tr>\n",
       "      <th>92434</th>\n",
       "      <td>15.10</td>\n",
       "      <td>Ocio deportivo</td>\n",
       "      <td>52.0</td>\n",
       "      <td>305.0</td>\n",
       "      <td>1.0</td>\n",
       "      <td>delivered</td>\n",
       "      <td>5</td>\n",
       "      <td>29.0</td>\n",
       "      <td>8.0</td>\n",
       "      <td>-21.0</td>\n",
       "      <td>False</td>\n",
       "      <td>3</td>\n",
       "    </tr>\n",
       "  </tbody>\n",
       "</table>\n",
       "</div>"
      ],
      "text/plain": [
       "       freight_value                espanol  product_name_lenght  \\\n",
       "7708           16.11     Cosas interesantes                 41.0   \n",
       "53329           9.60  Decoración de muebles                 26.0   \n",
       "7742           15.10               Juguetes                 57.0   \n",
       "77631          15.23      Electrodomésticos                 59.0   \n",
       "92434          15.10         Ocio deportivo                 52.0   \n",
       "\n",
       "       product_description_lenght  product_photos_qty order_status  \\\n",
       "7708                        578.0                 2.0    delivered   \n",
       "53329                       669.0                 4.0    delivered   \n",
       "7742                        571.0                 1.0    delivered   \n",
       "77631                       709.0                 2.0    delivered   \n",
       "92434                       305.0                 1.0    delivered   \n",
       "\n",
       "       review_score  wd_estimated_delivery_time  wd_actual_delivery_time  \\\n",
       "7708              3                        26.0                     18.0   \n",
       "53329             5                        11.0                      2.0   \n",
       "7742              5                        22.0                      9.0   \n",
       "77631             5                        35.0                     13.0   \n",
       "92434             5                        29.0                      8.0   \n",
       "\n",
       "       wd_delivery_time_delta  is_late  purchase_dayofweek  \n",
       "7708                     -8.0    False                   4  \n",
       "53329                    -9.0    False                   0  \n",
       "7742                    -13.0    False                   5  \n",
       "77631                   -22.0    False                   2  \n",
       "92434                   -21.0    False                   3  "
      ]
     },
     "execution_count": 22,
     "metadata": {},
     "output_type": "execute_result"
    }
   ],
   "source": [
    "feat_eng.head()"
   ]
  },
  {
   "cell_type": "markdown",
   "metadata": {},
   "source": [
    "### Correlación\n",
    "Veamos la correlación de las características que acabamos de crear con la puntuación de la review"
   ]
  },
  {
   "cell_type": "code",
   "execution_count": 23,
   "metadata": {},
   "outputs": [
    {
     "data": {
      "text/plain": [
       "review_score                  1.000000\n",
       "product_photos_qty            0.018103\n",
       "product_description_lenght    0.015066\n",
       "purchase_dayofweek           -0.012253\n",
       "product_name_lenght          -0.016363\n",
       "freight_value                -0.034275\n",
       "wd_estimated_delivery_time   -0.059254\n",
       "wd_delivery_time_delta       -0.230517\n",
       "wd_actual_delivery_time      -0.304019\n",
       "is_late                      -0.357496\n",
       "Name: review_score, dtype: float64"
      ]
     },
     "execution_count": 23,
     "metadata": {},
     "output_type": "execute_result"
    }
   ],
   "source": [
    "corr_matrix = feat_eng.corr()\n",
    "corr_matrix['review_score'].sort_values(ascending=False)"
   ]
  },
  {
   "cell_type": "code",
   "execution_count": 24,
   "metadata": {},
   "outputs": [
    {
     "data": {
      "image/png": "[encoded data removed]",
      "text/plain": [
       "<Figure size 576x288 with 2 Axes>"
      ]
     },
     "metadata": {
      "needs_background": "light"
     },
     "output_type": "display_data"
    }
   ],
   "source": [
    "plt.figure(figsize=(8,4))\n",
    "sns.heatmap(corr_matrix)\n",
    "plt.show()"
   ]
  },
  {
   "cell_type": "markdown",
   "metadata": {},
   "source": [
    "Parece que está bien, no hay ninguna correlación fuerte. Pero está claro que si un cliente da una puntuación más baja si recibe un pedido después de la fecha estimada. \n",
    "\n",
    "Veamos si hay algún valor faltante."
   ]
  },
  {
   "cell_type": "code",
   "execution_count": 25,
   "metadata": {},
   "outputs": [
    {
     "name": "stdout",
     "output_type": "stream",
     "text": [
      "<class 'pandas.core.frame.DataFrame'>\n",
      "Int64Index: 87396 entries, 7708 to 936\n",
      "Data columns (total 12 columns):\n",
      " #   Column                      Non-Null Count  Dtype  \n",
      "---  ------                      --------------  -----  \n",
      " 0   freight_value               87396 non-null  float64\n",
      " 1   espanol                     87396 non-null  object \n",
      " 2   product_name_lenght         87396 non-null  float64\n",
      " 3   product_description_lenght  87396 non-null  float64\n",
      " 4   product_photos_qty          87396 non-null  float64\n",
      " 5   order_status                87396 non-null  object \n",
      " 6   review_score                87396 non-null  int64  \n",
      " 7   wd_estimated_delivery_time  87396 non-null  float64\n",
      " 8   wd_actual_delivery_time     87396 non-null  float64\n",
      " 9   wd_delivery_time_delta      87396 non-null  float64\n",
      " 10  is_late                     87396 non-null  bool   \n",
      " 11  purchase_dayofweek          87396 non-null  int64  \n",
      "dtypes: bool(1), float64(7), int64(2), object(2)\n",
      "memory usage: 8.1+ MB\n"
     ]
    }
   ],
   "source": [
    "feat_eng.info()"
   ]
  },
  {
   "cell_type": "markdown",
   "metadata": {},
   "source": [
    "## Tratamiento de atributos categóricos y numéricos\n",
    "La forma en que manejamos los datos categóricos es muy diferente de las transformaciones necesarias para las características numéricas. Crearemos un transformador para seleccionar sólo las características categóricas o numéricas para su procesamiento."
   ]
  },
  {
   "cell_type": "code",
   "execution_count": 26,
   "metadata": {},
   "outputs": [],
   "source": [
    "# seleccionamos los atributos numéricos y de texto\n",
    "cat_attribs = ['order_status', 'espanol']\n",
    "num_attribs = orders_features.drop(cat_attribs, axis=1).columns"
   ]
  },
  {
   "cell_type": "code",
   "execution_count": 27,
   "metadata": {},
   "outputs": [],
   "source": [
    "class DataFrameSelector(BaseEstimator, TransformerMixin):\n",
    "    def __init__(self, attribute_names):\n",
    "        self.attribute_names = attribute_names\n",
    "    \n",
    "    def fit(self, X, y=None):\n",
    "        return self\n",
    "    \n",
    "    def transform(self, X, y=None):\n",
    "        return X[self.attribute_names]"
   ]
  },
  {
   "cell_type": "markdown",
   "metadata": {},
   "source": [
    "## Atributos numéricos\n",
    "Creación de pipelines para manejar datos no vistos"
   ]
  },
  {
   "cell_type": "code",
   "execution_count": 28,
   "metadata": {},
   "outputs": [],
   "source": [
    "from sklearn.pipeline import Pipeline\n",
    "from sklearn.preprocessing import StandardScaler\n",
    "\n",
    "# Por ahora no trabajamos con datos categóricos. Planeamos añadirlo en las próximas versiones\n",
    "num_pipeline = Pipeline([('selector', DataFrameSelector(num_attribs)),\n",
    "                         ('attribs_adder', AttributesAdder()),\n",
    "                         ('std_scaller', StandardScaler())\n",
    "                        ])"
   ]
  },
  {
   "cell_type": "code",
   "execution_count": 29,
   "metadata": {},
   "outputs": [],
   "source": [
    "orders_features_prepared = num_pipeline.fit_transform(orders_features)"
   ]
  },
  {
   "cell_type": "code",
   "execution_count": 30,
   "metadata": {},
   "outputs": [
    {
     "data": {
      "text/plain": [
       "array([[-0.24877946, -0.77956261, -0.32184625, ...,  0.39641345,\n",
       "        -0.26277584,  0.63790032],\n",
       "       [-0.66081719, -2.27835165, -0.18168848, ...,  0.29819677,\n",
       "        -0.26277584, -1.40153253],\n",
       "       [-0.31270544,  0.81914571, -0.33262762, ..., -0.09466992,\n",
       "        -0.26277584,  1.14775853],\n",
       "       ...,\n",
       "       [-0.65385496, -0.97940115,  1.95302216, ..., -1.07683667,\n",
       "        -0.26277584,  0.12804211],\n",
       "       [-0.71651507, -0.4798048 , -0.60216179, ...,  0.10176343,\n",
       "        -0.26277584,  1.14775853],\n",
       "       [-0.67727338,  0.81914571, -0.26639922, ...,  0.1999801 ,\n",
       "        -0.26277584,  0.12804211]])"
      ]
     },
     "execution_count": 30,
     "metadata": {},
     "output_type": "execute_result"
    }
   ],
   "source": [
    "# veamos cómo son los datos resultantes\n",
    "orders_features_prepared"
   ]
  },
  {
   "cell_type": "markdown",
   "metadata": {},
   "source": [
    "## Selección de un modelo\n",
    "Probaremos dos modelos y usaremos el que resulte más eficiente.\n",
    "\n",
    "### Regresión lineal"
   ]
  },
  {
   "cell_type": "code",
   "execution_count": 31,
   "metadata": {},
   "outputs": [
    {
     "data": {
      "text/html": [
       "<style>#sk-container-id-1 {color: black;background-color: white;}#sk-container-id-1 pre{padding: 0;}#sk-container-id-1 div.sk-toggleable {background-color: white;}#sk-container-id-1 label.sk-toggleable__label {cursor: pointer;display: block;width: 100%;margin-bottom: 0;padding: 0.3em;box-sizing: border-box;text-align: center;}#sk-container-id-1 label.sk-toggleable__label-arrow:before {content: \"▸\";float: left;margin-right: 0.25em;color: #696969;}#sk-container-id-1 label.sk-toggleable__label-arrow:hover:before {color: black;}#sk-container-id-1 div.sk-estimator:hover label.sk-toggleable__label-arrow:before {color: black;}#sk-container-id-1 div.sk-toggleable__content {max-height: 0;max-width: 0;overflow: hidden;text-align: left;background-color: #f0f8ff;}#sk-container-id-1 div.sk-toggleable__content pre {margin: 0.2em;color: black;border-radius: 0.25em;background-color: #f0f8ff;}#sk-container-id-1 input.sk-toggleable__control:checked~div.sk-toggleable__content {max-height: 200px;max-width: 100%;overflow: auto;}#sk-container-id-1 input.sk-toggleable__control:checked~label.sk-toggleable__label-arrow:before {content: \"▾\";}#sk-container-id-1 div.sk-estimator input.sk-toggleable__control:checked~label.sk-toggleable__label {background-color: #d4ebff;}#sk-container-id-1 div.sk-label input.sk-toggleable__control:checked~label.sk-toggleable__label {background-color: #d4ebff;}#sk-container-id-1 input.sk-hidden--visually {border: 0;clip: rect(1px 1px 1px 1px);clip: rect(1px, 1px, 1px, 1px);height: 1px;margin: -1px;overflow: hidden;padding: 0;position: absolute;width: 1px;}#sk-container-id-1 div.sk-estimator {font-family: monospace;background-color: #f0f8ff;border: 1px dotted black;border-radius: 0.25em;box-sizing: border-box;margin-bottom: 0.5em;}#sk-container-id-1 div.sk-estimator:hover {background-color: #d4ebff;}#sk-container-id-1 div.sk-parallel-item::after {content: \"\";width: 100%;border-bottom: 1px solid gray;flex-grow: 1;}#sk-container-id-1 div.sk-label:hover label.sk-toggleable__label {background-color: #d4ebff;}#sk-container-id-1 div.sk-serial::before {content: \"\";position: absolute;border-left: 1px solid gray;box-sizing: border-box;top: 0;bottom: 0;left: 50%;z-index: 0;}#sk-container-id-1 div.sk-serial {display: flex;flex-direction: column;align-items: center;background-color: white;padding-right: 0.2em;padding-left: 0.2em;position: relative;}#sk-container-id-1 div.sk-item {position: relative;z-index: 1;}#sk-container-id-1 div.sk-parallel {display: flex;align-items: stretch;justify-content: center;background-color: white;position: relative;}#sk-container-id-1 div.sk-item::before, #sk-container-id-1 div.sk-parallel-item::before {content: \"\";position: absolute;border-left: 1px solid gray;box-sizing: border-box;top: 0;bottom: 0;left: 50%;z-index: -1;}#sk-container-id-1 div.sk-parallel-item {display: flex;flex-direction: column;z-index: 1;position: relative;background-color: white;}#sk-container-id-1 div.sk-parallel-item:first-child::after {align-self: flex-end;width: 50%;}#sk-container-id-1 div.sk-parallel-item:last-child::after {align-self: flex-start;width: 50%;}#sk-container-id-1 div.sk-parallel-item:only-child::after {width: 0;}#sk-container-id-1 div.sk-dashed-wrapped {border: 1px dashed gray;margin: 0 0.4em 0.5em 0.4em;box-sizing: border-box;padding-bottom: 0.4em;background-color: white;}#sk-container-id-1 div.sk-label label {font-family: monospace;font-weight: bold;display: inline-block;line-height: 1.2em;}#sk-container-id-1 div.sk-label-container {text-align: center;}#sk-container-id-1 div.sk-container {/* jupyter's `normalize.less` sets `[hidden] { display: none; }` but bootstrap.min.css set `[hidden] { display: none !important; }` so we also need the `!important` here to be able to override the default hidden behavior on the sphinx rendered scikit-learn.org. See: https://github.com/scikit-learn/scikit-learn/issues/21755 */display: inline-block !important;position: relative;}#sk-container-id-1 div.sk-text-repr-fallback {display: none;}</style><div id=\"sk-container-id-1\" class=\"sk-top-container\"><div class=\"sk-text-repr-fallback\"><pre>LinearRegression()</pre><b>In a Jupyter environment, please rerun this cell to show the HTML representation or trust the notebook. <br />On GitHub, the HTML representation is unable to render, please try loading this page with nbviewer.org.</b></div><div class=\"sk-container\" hidden><div class=\"sk-item\"><div class=\"sk-estimator sk-toggleable\"><input class=\"sk-toggleable__control sk-hidden--visually\" id=\"sk-estimator-id-1\" type=\"checkbox\" checked><label for=\"sk-estimator-id-1\" class=\"sk-toggleable__label sk-toggleable__label-arrow\">LinearRegression</label><div class=\"sk-toggleable__content\"><pre>LinearRegression()</pre></div></div></div></div></div>"
      ],
      "text/plain": [
       "LinearRegression()"
      ]
     },
     "execution_count": 31,
     "metadata": {},
     "output_type": "execute_result"
    }
   ],
   "source": [
    "from sklearn.linear_model import LinearRegression\n",
    "\n",
    "lin_reg = LinearRegression()\n",
    "lin_reg.fit(orders_features_prepared, orders_labels)"
   ]
  },
  {
   "cell_type": "code",
   "execution_count": 32,
   "metadata": {},
   "outputs": [],
   "source": [
    "some_data = orders_features.iloc[:8]\n",
    "some_labels = orders_labels.iloc[:8]\n",
    "some_data_prepared = num_pipeline.transform(some_data)"
   ]
  },
  {
   "cell_type": "code",
   "execution_count": 33,
   "metadata": {},
   "outputs": [
    {
     "name": "stdout",
     "output_type": "stream",
     "text": [
      "Predicted: [4.057975684895905, 4.5042922601646325, 4.175792288769698, 4.082683737476167, 4.18458597605607, 4.265749008128766, 4.37562655234253, 4.370502521230343] \n",
      " Labels: [3, 5, 5, 5, 5, 4, 4, 4]\n"
     ]
    }
   ],
   "source": [
    "# Veamos algunas predicciones\n",
    "print('Predicted: {} \\n Labels: {}'.format(list(lin_reg.predict(some_data_prepared)), list(some_labels.values)))"
   ]
  },
  {
   "cell_type": "markdown",
   "metadata": {},
   "source": [
    "Los valores predichos son algo diferentes de los valores correctos. Veamos cuál es el error cuadrático medio."
   ]
  },
  {
   "cell_type": "code",
   "execution_count": 34,
   "metadata": {},
   "outputs": [
    {
     "data": {
      "text/plain": [
       "1.246235254877063"
      ]
     },
     "execution_count": 34,
     "metadata": {},
     "output_type": "execute_result"
    }
   ],
   "source": [
    "from sklearn.metrics import mean_squared_error\n",
    "\n",
    "predictions = lin_reg.predict(orders_features_prepared)\n",
    "lin_mse = mean_squared_error(orders_labels, predictions)\n",
    "lin_rmse = np.sqrt(lin_mse)\n",
    "lin_rmse"
   ]
  },
  {
   "cell_type": "markdown",
   "metadata": {},
   "source": [
    "Un error de predicción es bastante alto en nuestro caso, ya que tratamos de predecir valores que van de 1 a 5.  Así que vamos a probar un modelo diferente.\n",
    "\n",
    "### Random Forest"
   ]
  },
  {
   "cell_type": "code",
   "execution_count": 35,
   "metadata": {},
   "outputs": [
    {
     "data": {
      "text/plain": [
       "0.41149077673364354"
      ]
     },
     "execution_count": 35,
     "metadata": {},
     "output_type": "execute_result"
    }
   ],
   "source": [
    "from sklearn.ensemble import RandomForestRegressor\n",
    "\n",
    "#Esto tarda un poco\n",
    "\n",
    "forest_reg = RandomForestRegressor()\n",
    "forest_reg.fit(orders_features_prepared, orders_labels)\n",
    "\n",
    "predictions = forest_reg.predict(orders_features_prepared)\n",
    "forest_mse = mean_squared_error(orders_labels, predictions)\n",
    "forest_rmse = np.sqrt(forest_mse)\n",
    "forest_rmse"
   ]
  },
  {
   "cell_type": "markdown",
   "metadata": {},
   "source": [
    "Esta vez obtuvimos un error mucho menor que el anterior. Así que nos quedamos con este. Veamos algunos ejemplos de predicciones."
   ]
  },
  {
   "cell_type": "code",
   "execution_count": 36,
   "metadata": {},
   "outputs": [
    {
     "name": "stdout",
     "output_type": "stream",
     "text": [
      "Predicted: [3.02, 4.6, 5.0, 4.57, 4.84, 3.9, 3.79, 4.1] \n",
      " Labels: [3, 5, 5, 5, 5, 4, 4, 4]\n"
     ]
    }
   ],
   "source": [
    "print('Predicted: {} \\n Labels: {}'.format(list(forest_reg.predict(some_data_prepared)), list(some_labels.values)))"
   ]
  },
  {
   "cell_type": "markdown",
   "metadata": {},
   "source": [
    "# Conclusiones\n",
    "\n",
    "De la Hipótesis principal, la entrega del producto es el factor que más influye en la puntuación de las reseñas de los clientes. Pero para hacer más notorio este hecho, generamos nuevas características en nuestro conjunto de datos, en particular, se otuvo que  la puntuación asignada por el cliente es inversamente proporcional al retraso de la entrega.\n",
    "\n",
    "Por otro lado, Random Forest fue el modelo con mayor precición, obteniendo un error cuadratico medio de 0.41, que para nuestro objetivo es suficientemente preciso para predecir punctuaciones a partir de las caracteristicas de las ventas."
   ]
  }
 ],
 "metadata": {
  "kernelspec": {
   "display_name": "Python 3.9.13 64-bit (windows store)",
   "language": "python",
   "name": "python3"
  },
  "language_info": {
   "codemirror_mode": {
    "name": "ipython",
    "version": 3
   },
   "file_extension": ".py",
   "mimetype": "text/x-python",
   "name": "python",
   "nbconvert_exporter": "python",
   "pygments_lexer": "ipython3",
   "version": "3.9.13"
  },
  "orig_nbformat": 4,
  "vscode": {
   "interpreter": {
    "hash": "2a20e24e022b4877d44aac710ca964aedbc908122721099ed842fef90c5cbbd5"
   }
  }
 },
 "nbformat": 4,
 "nbformat_minor": 2
}
